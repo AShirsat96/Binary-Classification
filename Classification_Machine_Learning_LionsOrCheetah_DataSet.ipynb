{
 "cells": [
  {
   "cell_type": "code",
   "execution_count": 1,
   "id": "d6571ad0",
   "metadata": {},
   "outputs": [],
   "source": [
    "%%capture\n",
    "\n",
    "!pip install mlxtend\n",
    "!pip install --upgrade tensorflow\n",
    "\n",
    "import warnings\n",
    "\n",
    "def fxn():\n",
    "    warnings.warn(\"deprecated\", DeprecationWarning)\n",
    "\n",
    "with warnings.catch_warnings():\n",
    "    warnings.simplefilter(\"ignore\")\n",
    "    fxn()"
   ]
  },
  {
   "cell_type": "code",
   "execution_count": 2,
   "id": "46002df3",
   "metadata": {},
   "outputs": [
    {
     "name": "stdout",
     "output_type": "stream",
     "text": [
      "Requirement already satisfied: opencv-python in c:\\programdata\\anaconda3\\lib\\site-packages (4.7.0.72)\n",
      "Requirement already satisfied: numpy>=1.17.0 in c:\\programdata\\anaconda3\\lib\\site-packages (from opencv-python) (1.23.5)\n",
      "2.11.0\n"
     ]
    }
   ],
   "source": [
    "!pip install opencv-python\n",
    "from urllib.request import urlopen\n",
    "from PIL import Image\n",
    "import IPython\n",
    "import numpy as np\n",
    "import pandas as pd\n",
    "from matplotlib import pyplot as plt\n",
    "from keras.datasets import mnist, fashion_mnist\n",
    "import random\n",
    "from sklearn.preprocessing import OneHotEncoder\n",
    "from tensorflow.keras.losses import CategoricalCrossentropy,SparseCategoricalCrossentropy,BinaryCrossentropy\n",
    "from sklearn.datasets import make_blobs\n",
    "from mlxtend.plotting import plot_decision_regions\n",
    "import tensorflow as tf\n",
    "print(tf.__version__)\n",
    "from sklearn import preprocessing\n",
    "from tensorflow.keras.utils import to_categorical\n",
    "from tensorflow.keras.models import Sequential\n",
    "from tensorflow.keras.layers import Dense"
   ]
  },
  {
   "cell_type": "code",
   "execution_count": 3,
   "id": "f271e1a7",
   "metadata": {},
   "outputs": [],
   "source": [
    "from PIL import Image\n",
    "import os, os.path\n",
    "\n",
    "imgs = []\n",
    "path = \"/Users/anshirsa/Downloads/images\"\n",
    "valid_images = [\".jpg\"]\n",
    "for f in os.listdir(path):\n",
    "    ext = os.path.splitext(f)[1]\n",
    "    if ext.lower() not in valid_images:\n",
    "        continue\n",
    "    imgs.append(Image.open(os.path.join(path,f)))"
   ]
  },
  {
   "cell_type": "markdown",
   "id": "d67cf36d",
   "metadata": {},
   "source": [
    "#### Doing Binary Classification using Keras"
   ]
  },
  {
   "cell_type": "code",
   "execution_count": 4,
   "id": "bcb87fb8",
   "metadata": {},
   "outputs": [],
   "source": [
    "def generate_binary_blobs(num_samples_total, training_split, loss_function_used):\n",
    "    X, targets = make_blobs(n_samples = num_samples_total, centers = [(0,0), (15,15)], n_features = 2, center_box=(0, 1), cluster_std = 2.5)\n",
    "    targets[np.where(targets == 0)] = -1\n",
    "    X_training = X[training_split:, :]\n",
    "    X_testing = X[:training_split, :]\n",
    "    Targets_training = targets[training_split:]\n",
    "    Targets_testing = targets[:training_split]\n",
    "    return X_training, Targets_training, X_testing, Targets_testing"
   ]
  },
  {
   "cell_type": "code",
   "execution_count": 5,
   "id": "e53ad6bb",
   "metadata": {},
   "outputs": [],
   "source": [
    "num_samples = 200\n",
    "test_split = 100\n",
    "cluster_centers = [(15,0), (30,15)]\n",
    "num_classes = len(cluster_centers)\n",
    "loss_function_used = BinaryCrossentropy(from_logits=True)"
   ]
  },
  {
   "cell_type": "code",
   "execution_count": 6,
   "id": "5ebc8eac",
   "metadata": {},
   "outputs": [],
   "source": [
    "X_training, Targets_training, X_testing, Targets_testing=generate_binary_blobs(num_samples, test_split, loss_function_used)"
   ]
  },
  {
   "cell_type": "code",
   "execution_count": 7,
   "id": "edf4d2d3",
   "metadata": {},
   "outputs": [
    {
     "data": {
      "image/png": "[encoded data removed]",
      "text/plain": [
       "<Figure size 400x400 with 1 Axes>"
      ]
     },
     "metadata": {},
     "output_type": "display_data"
    }
   ],
   "source": [
    "plt.figure(figsize=(4, 4))\n",
    "plt.scatter(X_training[:,0], X_training[:,1])\n",
    "plt.title('Linearly separable data')\n",
    "plt.xlabel('X1')\n",
    "plt.ylabel('X2')\n",
    "plt.show()"
   ]
  },
  {
   "cell_type": "code",
   "execution_count": 8,
   "id": "28d05106",
   "metadata": {},
   "outputs": [],
   "source": [
    "feature_vector_shape = X_training.shape[1]\n",
    "input_shape = (feature_vector_shape,)\n",
    "\n",
    "model = Sequential()\n",
    "model.add(Dense(12, input_shape=input_shape, activation='relu', kernel_initializer='he_uniform'))\n",
    "model.add(Dense(8, activation='relu', kernel_initializer='he_uniform'))\n",
    "model.add(Dense(1, activation = 'sigmoid'))"
   ]
  },
  {
   "cell_type": "code",
   "execution_count": 9,
   "id": "aa135553",
   "metadata": {},
   "outputs": [
    {
     "name": "stderr",
     "output_type": "stream",
     "text": [
      "WARNING:absl:`lr` is deprecated, please use `learning_rate` instead, or use the legacy optimizer, e.g.,tf.keras.optimizers.legacy.Adam.\n"
     ]
    },
    {
     "name": "stdout",
     "output_type": "stream",
     "text": [
      "Epoch 1/30\n"
     ]
    },
    {
     "name": "stderr",
     "output_type": "stream",
     "text": [
      "C:\\ProgramData\\Anaconda3\\lib\\site-packages\\keras\\backend.py:5676: UserWarning: \"`binary_crossentropy` received `from_logits=True`, but the `output` argument was produced by a Sigmoid activation and thus does not represent logits. Was this intended?\n",
      "  output, from_logits = _get_logits(\n"
     ]
    },
    {
     "name": "stdout",
     "output_type": "stream",
     "text": [
      "16/16 [==============================] - 1s 17ms/step - loss: 4.8357 - accuracy: 0.0000e+00 - val_loss: 1.7344 - val_accuracy: 0.0000e+00\n",
      "Epoch 2/30\n",
      "16/16 [==============================] - 0s 4ms/step - loss: 3.4479 - accuracy: 0.0000e+00 - val_loss: 0.6774 - val_accuracy: 0.0000e+00\n",
      "Epoch 3/30\n",
      "16/16 [==============================] - 0s 5ms/step - loss: 2.1066 - accuracy: 0.0000e+00 - val_loss: -0.3502 - val_accuracy: 0.0000e+00\n",
      "Epoch 4/30\n",
      "16/16 [==============================] - 0s 4ms/step - loss: 0.8765 - accuracy: 0.0000e+00 - val_loss: -1.3607 - val_accuracy: 0.0000e+00\n",
      "Epoch 5/30\n",
      "16/16 [==============================] - 0s 4ms/step - loss: -0.3893 - accuracy: 0.0000e+00 - val_loss: -2.3459 - val_accuracy: 0.0000e+00\n",
      "Epoch 6/30\n",
      "16/16 [==============================] - 0s 5ms/step - loss: -1.6219 - accuracy: 0.0000e+00 - val_loss: -3.3788 - val_accuracy: 0.0000e+00\n",
      "Epoch 7/30\n",
      "16/16 [==============================] - 0s 4ms/step - loss: -2.8423 - accuracy: 0.0000e+00 - val_loss: -4.4385 - val_accuracy: 0.0000e+00\n",
      "Epoch 8/30\n",
      "16/16 [==============================] - 0s 4ms/step - loss: -3.9632 - accuracy: 0.0250 - val_loss: -5.2538 - val_accuracy: 0.3000\n",
      "Epoch 9/30\n",
      "16/16 [==============================] - 0s 4ms/step - loss: -4.7067 - accuracy: 0.4875 - val_loss: -5.8334 - val_accuracy: 0.3500\n",
      "Epoch 10/30\n",
      "16/16 [==============================] - 0s 5ms/step - loss: -5.2459 - accuracy: 0.5250 - val_loss: -6.3115 - val_accuracy: 0.4000\n",
      "Epoch 11/30\n",
      "16/16 [==============================] - 0s 5ms/step - loss: -5.7284 - accuracy: 0.5500 - val_loss: -6.8416 - val_accuracy: 0.3500\n",
      "Epoch 12/30\n",
      "16/16 [==============================] - 0s 3ms/step - loss: -6.2044 - accuracy: 0.5500 - val_loss: -7.4801 - val_accuracy: 0.3500\n",
      "Epoch 13/30\n",
      "16/16 [==============================] - 0s 4ms/step - loss: -6.7819 - accuracy: 0.5500 - val_loss: -8.1432 - val_accuracy: 0.3500\n",
      "Epoch 14/30\n",
      "16/16 [==============================] - 0s 4ms/step - loss: -7.3458 - accuracy: 0.5500 - val_loss: -8.8804 - val_accuracy: 0.3500\n",
      "Epoch 15/30\n",
      "16/16 [==============================] - 0s 5ms/step - loss: -7.9695 - accuracy: 0.5500 - val_loss: -9.6321 - val_accuracy: 0.3500\n",
      "Epoch 16/30\n",
      "16/16 [==============================] - 0s 5ms/step - loss: -8.6263 - accuracy: 0.5500 - val_loss: -10.4184 - val_accuracy: 0.3500\n",
      "Epoch 17/30\n",
      "16/16 [==============================] - 0s 5ms/step - loss: -9.3181 - accuracy: 0.5500 - val_loss: -11.2209 - val_accuracy: 0.3500\n",
      "Epoch 18/30\n",
      "16/16 [==============================] - 0s 5ms/step - loss: -10.0387 - accuracy: 0.5500 - val_loss: -12.0714 - val_accuracy: 0.3500\n",
      "Epoch 19/30\n",
      "16/16 [==============================] - 0s 5ms/step - loss: -10.7354 - accuracy: 0.5375 - val_loss: -13.1221 - val_accuracy: 0.3500\n",
      "Epoch 20/30\n",
      "16/16 [==============================] - 0s 5ms/step - loss: -11.6653 - accuracy: 0.5375 - val_loss: -14.0086 - val_accuracy: 0.3500\n",
      "Epoch 21/30\n",
      "16/16 [==============================] - 0s 5ms/step - loss: -12.4521 - accuracy: 0.5375 - val_loss: -15.0928 - val_accuracy: 0.3500\n",
      "Epoch 22/30\n",
      "16/16 [==============================] - 0s 4ms/step - loss: -13.3471 - accuracy: 0.5375 - val_loss: -16.2360 - val_accuracy: 0.3500\n",
      "Epoch 23/30\n",
      "16/16 [==============================] - 0s 5ms/step - loss: -14.3686 - accuracy: 0.5250 - val_loss: -17.3216 - val_accuracy: 0.3500\n",
      "Epoch 24/30\n",
      "16/16 [==============================] - 0s 4ms/step - loss: -15.3855 - accuracy: 0.5250 - val_loss: -18.5191 - val_accuracy: 0.3500\n",
      "Epoch 25/30\n",
      "16/16 [==============================] - 0s 5ms/step - loss: -16.5130 - accuracy: 0.5375 - val_loss: -19.6524 - val_accuracy: 0.3500\n",
      "Epoch 26/30\n",
      "16/16 [==============================] - 0s 4ms/step - loss: -17.5500 - accuracy: 0.5250 - val_loss: -21.0297 - val_accuracy: 0.3500\n",
      "Epoch 27/30\n",
      "16/16 [==============================] - 0s 4ms/step - loss: -18.8131 - accuracy: 0.5250 - val_loss: -22.3358 - val_accuracy: 0.3500\n",
      "Epoch 28/30\n",
      "16/16 [==============================] - 0s 4ms/step - loss: -20.0181 - accuracy: 0.5250 - val_loss: -23.8936 - val_accuracy: 0.3500\n",
      "Epoch 29/30\n",
      "16/16 [==============================] - 0s 4ms/step - loss: -21.3462 - accuracy: 0.5250 - val_loss: -25.4208 - val_accuracy: 0.3500\n",
      "Epoch 30/30\n",
      "16/16 [==============================] - 0s 5ms/step - loss: -22.7406 - accuracy: 0.5250 - val_loss: -27.0568 - val_accuracy: 0.3500\n"
     ]
    }
   ],
   "source": [
    "model.compile(loss=loss_function_used, optimizer=tf.keras.optimizers.Adam(lr=0.01), metrics=['accuracy'])\n",
    "history = model.fit(X_training, Targets_training, epochs=30, batch_size=5, verbose=1, validation_split=0.2)"
   ]
  },
  {
   "cell_type": "code",
   "execution_count": 10,
   "id": "ffd71f4f",
   "metadata": {},
   "outputs": [
    {
     "name": "stdout",
     "output_type": "stream",
     "text": [
      "4/4 [==============================] - 0s 3ms/step - loss: -21.4098 - accuracy: 0.4600\n",
      "Test results - Loss: -21.409839630126953 - Accuracy: 46.00000083446503%\n"
     ]
    }
   ],
   "source": [
    "test_results = model.evaluate(X_testing, Targets_testing, verbose=1)\n",
    "print(f'Test results - Loss: {test_results[0]} - Accuracy: {test_results[1]*100}%')"
   ]
  },
  {
   "cell_type": "code",
   "execution_count": 11,
   "id": "d9258cbc",
   "metadata": {},
   "outputs": [
    {
     "name": "stdout",
     "output_type": "stream",
     "text": [
      "9600/9600 [==============================] - 13s 1ms/step\n"
     ]
    },
    {
     "data": {
      "image/png": "[encoded data removed]",
      "text/plain": [
       "<Figure size 640x480 with 1 Axes>"
      ]
     },
     "metadata": {},
     "output_type": "display_data"
    },
    {
     "data": {
      "text/plain": [
       "<Figure size 400x400 with 0 Axes>"
      ]
     },
     "metadata": {},
     "output_type": "display_data"
    }
   ],
   "source": [
    "plot_decision_regions(X_testing, Targets_testing, clf=model, legend=2)\n",
    "plt.figure(figsize=(4, 4))\n",
    "plt.show()"
   ]
  },
  {
   "cell_type": "markdown",
   "id": "0413afdc",
   "metadata": {},
   "source": [
    "Using Binary Classification, we can see that the images dataset has been successfully clustered into two categories\n",
    "(These two categories are Lions and Cheetahs)"
   ]
  },
  {
   "cell_type": "markdown",
   "id": "ec6408fe",
   "metadata": {},
   "source": [
    "#### Image Classification using Keras"
   ]
  },
  {
   "cell_type": "code",
   "execution_count": 12,
   "id": "c85de0da",
   "metadata": {},
   "outputs": [],
   "source": [
    "from keras.preprocessing.image import ImageDataGenerator\n",
    "from keras.models import Sequential\n",
    "from keras.layers import Conv2D, MaxPooling2D\n",
    "from keras.layers import Activation, Dropout, Flatten, Dense\n",
    "from keras import backend as K\n",
    " \n",
    "img_width, img_height = 224, 224"
   ]
  },
  {
   "cell_type": "code",
   "execution_count": 13,
   "id": "a22a54db",
   "metadata": {},
   "outputs": [],
   "source": [
    "train_data_dir = '/Users/anshirsa/Downloads/images/train'\n",
    "validation_data_dir = '/Users/anshirsa/Downloads/images/test'\n",
    "nb_train_samples = 100\n",
    "nb_validation_samples = 100\n",
    "epochs = 10\n",
    "batch_size = 16"
   ]
  },
  {
   "cell_type": "code",
   "execution_count": 14,
   "id": "4be01f94",
   "metadata": {},
   "outputs": [],
   "source": [
    "if K.image_data_format() == 'channels_first':\n",
    "    input_shape = (3, img_width, img_height)\n",
    "else:\n",
    "    input_shape = (img_width, img_height, 3)"
   ]
  },
  {
   "cell_type": "code",
   "execution_count": 15,
   "id": "ae1457c2",
   "metadata": {},
   "outputs": [],
   "source": [
    "model = Sequential()\n",
    "model.add(Conv2D(32, (2, 2), input_shape=input_shape))\n",
    "model.add(Activation('relu'))\n",
    "model.add(MaxPooling2D(pool_size=(2, 2)))\n",
    " \n",
    "model.add(Conv2D(32, (2, 2)))\n",
    "model.add(Activation('relu'))\n",
    "model.add(MaxPooling2D(pool_size=(2, 2)))\n",
    " \n",
    "model.add(Conv2D(64, (2, 2)))\n",
    "model.add(Activation('relu'))\n",
    "model.add(MaxPooling2D(pool_size=(2, 2)))\n",
    " \n",
    "model.add(Flatten())\n",
    "model.add(Dense(64))\n",
    "model.add(Activation('relu'))\n",
    "model.add(Dropout(0.5))\n",
    "model.add(Dense(1))\n",
    "model.add(Activation('sigmoid'))"
   ]
  },
  {
   "cell_type": "code",
   "execution_count": 16,
   "id": "21dbe310",
   "metadata": {},
   "outputs": [],
   "source": [
    "model.compile(loss='binary_crossentropy',\n",
    "              optimizer='rmsprop',\n",
    "              metrics=['accuracy'])"
   ]
  },
  {
   "cell_type": "code",
   "execution_count": 17,
   "id": "8210bc51",
   "metadata": {},
   "outputs": [
    {
     "name": "stdout",
     "output_type": "stream",
     "text": [
      "Found 100 images belonging to 2 classes.\n",
      "Found 100 images belonging to 2 classes.\n",
      "Epoch 1/10\n",
      "6/6 [==============================] - 7s 1s/step - loss: 1.7786 - accuracy: 0.4583 - val_loss: 0.7472 - val_accuracy: 0.5208\n",
      "Epoch 2/10\n",
      "6/6 [==============================] - 5s 897ms/step - loss: 0.7016 - accuracy: 0.6190 - val_loss: 0.8196 - val_accuracy: 0.4896\n",
      "Epoch 3/10\n",
      "6/6 [==============================] - 6s 1s/step - loss: 0.7016 - accuracy: 0.5238 - val_loss: 0.6805 - val_accuracy: 0.5938\n",
      "Epoch 4/10\n",
      "6/6 [==============================] - 5s 870ms/step - loss: 0.6792 - accuracy: 0.6071 - val_loss: 0.6717 - val_accuracy: 0.6354\n",
      "Epoch 5/10\n",
      "6/6 [==============================] - 5s 905ms/step - loss: 0.7027 - accuracy: 0.5952 - val_loss: 0.6785 - val_accuracy: 0.5729\n",
      "Epoch 6/10\n",
      "6/6 [==============================] - 6s 994ms/step - loss: 0.6820 - accuracy: 0.5952 - val_loss: 0.6539 - val_accuracy: 0.5938\n",
      "Epoch 7/10\n",
      "6/6 [==============================] - 5s 921ms/step - loss: 0.6871 - accuracy: 0.6190 - val_loss: 0.6645 - val_accuracy: 0.6042\n",
      "Epoch 8/10\n",
      "6/6 [==============================] - 5s 916ms/step - loss: 0.7001 - accuracy: 0.6190 - val_loss: 0.6698 - val_accuracy: 0.5521\n",
      "Epoch 9/10\n",
      "6/6 [==============================] - 5s 805ms/step - loss: 0.6385 - accuracy: 0.6071 - val_loss: 1.1043 - val_accuracy: 0.4792\n",
      "Epoch 10/10\n",
      "6/6 [==============================] - 5s 932ms/step - loss: 0.6633 - accuracy: 0.5833 - val_loss: 0.6719 - val_accuracy: 0.5729\n"
     ]
    },
    {
     "data": {
      "text/plain": [
       "<keras.callbacks.History at 0x206a0a846d0>"
      ]
     },
     "execution_count": 17,
     "metadata": {},
     "output_type": "execute_result"
    }
   ],
   "source": [
    "train_datagen = ImageDataGenerator(\n",
    "    rescale=1. / 100,\n",
    "    shear_range=0.2,\n",
    "    zoom_range=0.2,\n",
    "    horizontal_flip=True)\n",
    " \n",
    "test_datagen = ImageDataGenerator(rescale=1. / 100)\n",
    " \n",
    "train_generator = train_datagen.flow_from_directory(\n",
    "    train_data_dir,\n",
    "    target_size=(img_width, img_height),\n",
    "    batch_size=batch_size,\n",
    "    class_mode='binary')\n",
    " \n",
    "validation_generator = test_datagen.flow_from_directory(\n",
    "    validation_data_dir,\n",
    "    target_size=(img_width, img_height),\n",
    "    batch_size=batch_size,\n",
    "    class_mode='binary')\n",
    " \n",
    "model.fit(\n",
    "    train_generator,\n",
    "    steps_per_epoch=nb_train_samples // batch_size,\n",
    "    epochs=epochs,\n",
    "    validation_data=validation_generator,\n",
    "    validation_steps=nb_validation_samples // batch_size)"
   ]
  },
  {
   "cell_type": "code",
   "execution_count": 18,
   "id": "7bdc566d",
   "metadata": {},
   "outputs": [],
   "source": [
    "model.save_weights('model_saved.h5')"
   ]
  },
  {
   "cell_type": "code",
   "execution_count": 19,
   "id": "ebcd43e4",
   "metadata": {},
   "outputs": [
    {
     "name": "stderr",
     "output_type": "stream",
     "text": [
      "WARNING:absl:Found untraced functions such as _jit_compiled_convolution_op, _jit_compiled_convolution_op, _jit_compiled_convolution_op, _update_step_xla while saving (showing 4 of 4). These functions will not be directly callable after loading.\n"
     ]
    },
    {
     "name": "stdout",
     "output_type": "stream",
     "text": [
      "INFO:tensorflow:Assets written to: /Users/anshirsa/Downloads/assets\n"
     ]
    },
    {
     "name": "stderr",
     "output_type": "stream",
     "text": [
      "INFO:tensorflow:Assets written to: /Users/anshirsa/Downloads/assets\n"
     ]
    },
    {
     "name": "stdout",
     "output_type": "stream",
     "text": [
      "1/1 [==============================] - 0s 112ms/step\n",
      "Predicted Class (0 - Cheetahs , 1- Lions):  0.50436133\n"
     ]
    }
   ],
   "source": [
    "from keras.models import load_model\n",
    "from tensorflow.keras.utils import load_img\n",
    "from tensorflow.keras.utils import img_to_array\n",
    "from keras.applications.vgg16 import preprocess_input\n",
    "from keras.applications.vgg16 import decode_predictions\n",
    "from keras.applications.vgg16 import VGG16\n",
    "import numpy as np\n",
    " \n",
    "from keras.models import load_model\n",
    "\n",
    "model.save(\"/Users/anshirsa/Downloads/\") \n",
    "model = load_model(\"/Users/anshirsa/Downloads/\")\n",
    " \n",
    "image = load_img('/Users/anshirsa/Downloads/images/test/Cheetahs/113fbf2203ccef57.jpg', target_size=(224, 224))\n",
    "img = np.array(image)\n",
    "img = img / 255.0\n",
    "img = img.reshape(1,224,224,3)\n",
    "label = model.predict(img)\n",
    "print(\"Predicted Class (0 - Cheetahs , 1- Lions): \", label[0][0])"
   ]
  },
  {
   "cell_type": "code",
   "execution_count": null,
   "id": "d99b8e47",
   "metadata": {},
   "outputs": [],
   "source": []
  }
 ],
 "metadata": {
  "kernelspec": {
   "display_name": "Python 3 (ipykernel)",
   "language": "python",
   "name": "python3"
  },
  "language_info": {
   "codemirror_mode": {
    "name": "ipython",
    "version": 3
   },
   "file_extension": ".py",
   "mimetype": "text/x-python",
   "name": "python",
   "nbconvert_exporter": "python",
   "pygments_lexer": "ipython3",
   "version": "3.9.16"
  }
 },
 "nbformat": 4,
 "nbformat_minor": 5
}
